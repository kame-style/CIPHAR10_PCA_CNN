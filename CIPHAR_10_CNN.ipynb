{
  "cells": [
    {
      "cell_type": "code",
      "source": [
        "import tensorflow as tf\n",
        "device_name = tf.test.gpu_device_name()\n",
        "if len(device_name) > 0:\n",
        "    print(\"Found GPU at: {}\".format(device_name))\n",
        "else:\n",
        "    device_name = \"/device:CPU:0\"\n",
        "    print(\"No GPU, using {}.\".format(device_name))"
      ],
      "metadata": {
        "colab": {
          "base_uri": "https://localhost:8080/"
        },
        "id": "G-lDczYzKUtL",
        "outputId": "d7ac39d2-7f77-47f2-d0a3-f86ee58548de"
      },
      "execution_count": null,
      "outputs": [
        {
          "output_type": "stream",
          "name": "stdout",
          "text": [
            "Found GPU at: /device:GPU:0\n"
          ]
        }
      ]
    },
    {
      "cell_type": "code",
      "execution_count": null,
      "metadata": {
        "id": "q-LbyHA9S7Zn",
        "colab": {
          "base_uri": "https://localhost:8080/"
        },
        "outputId": "b5cfb439-fd40-4f64-e026-a93ae5621c0f"
      },
      "outputs": [
        {
          "output_type": "stream",
          "name": "stdout",
          "text": [
            "Downloading data from https://www.cs.toronto.edu/~kriz/cifar-10-python.tar.gz\n",
            "170498071/170498071 [==============================] - 4s 0us/step\n"
          ]
        }
      ],
      "source": [
        "import numpy as np\n",
        "from keras.datasets import cifar10\n",
        "(X_train, y_train), (X_test, y_test) = cifar10.load_data()"
      ]
    },
    {
      "cell_type": "code",
      "execution_count": null,
      "metadata": {
        "colab": {
          "base_uri": "https://localhost:8080/"
        },
        "id": "V3E6WnU2TCEP",
        "outputId": "83687bf4-c661-4341-dcee-c5dd3d43bea2"
      },
      "outputs": [
        {
          "output_type": "stream",
          "name": "stdout",
          "text": [
            "Shape of training data:\n",
            "(50000, 32, 32, 3)\n",
            "(50000, 1)\n",
            "Shape of test data:\n",
            "(10000, 32, 32, 3)\n",
            "(10000, 1)\n"
          ]
        }
      ],
      "source": [
        "print(\"Shape of training data:\")\n",
        "print(X_train.shape)\n",
        "print(y_train.shape)\n",
        "print(\"Shape of test data:\")\n",
        "print(X_test.shape)\n",
        "print(y_test.shape)\n",
        "\n",
        "## 3 -> red,green,blue channels"
      ]
    },
    {
      "cell_type": "code",
      "execution_count": null,
      "metadata": {
        "id": "fNFGTeoITFQQ"
      },
      "outputs": [],
      "source": [
        "y_train_rs=np.resize(y_train,(50000,))\n",
        "y_test_rs=np.resize(y_test,(10000,))"
      ]
    },
    {
      "cell_type": "code",
      "execution_count": null,
      "metadata": {
        "colab": {
          "base_uri": "https://localhost:8080/"
        },
        "id": "Vk5SbEcyTI0s",
        "outputId": "8b66f446-02eb-4013-d458-d9e0b6c208b5"
      },
      "outputs": [
        {
          "output_type": "stream",
          "name": "stdout",
          "text": [
            "[[6]\n",
            " [9]\n",
            " [9]\n",
            " ...\n",
            " [9]\n",
            " [1]\n",
            " [1]]\n",
            "(50000,)\n",
            "[6 9 9 ... 9 1 1]\n",
            "(50000,)\n"
          ]
        }
      ],
      "source": [
        "print(y_train)\n",
        "print(y_train_rs.shape)\n",
        "\n",
        "print(y_train_rs)\n",
        "print(y_train_rs.shape)"
      ]
    },
    {
      "cell_type": "code",
      "source": [
        "import tensorflow as tf\n",
        "from tensorflow import keras\n",
        "from keras.preprocessing.image import ImageDataGenerator\n",
        "import numpy as np\n",
        "\n",
        "# Assuming you already have your image data loaded into 'X_train' and 'y_train' arrays\n",
        "\n",
        "# Create an instance of the ImageDataGenerator class\n",
        "datagen = ImageDataGenerator(\n",
        "    rotation_range=20,  # Random rotation between -20 and 20 degrees\n",
        "    width_shift_range=0.2,  # Randomly shift the width by a factor of 0.2\n",
        "    height_shift_range=0.2,  # Randomly shift the height by a factor of 0.2\n",
        "    shear_range=0.2,  # Shear the image by a random factor of 0.2\n",
        "    zoom_range=0.2,  # Randomly zoom by a factor of 0.2\n",
        "    horizontal_flip=True,  # Randomly flip the image horizontally\n",
        "    fill_mode='nearest'  # Fill any missing pixels with the nearest value\n",
        ")\n",
        "\n",
        "# Generate augmented images\n",
        "augmented_images = []\n",
        "augmented_labels = []\n",
        "with tf.device(device_name):\n",
        "  for i in range(len(X_train)):\n",
        "      img = X_train[i]\n",
        "      label = y_train[i]\n",
        "      img = img.reshape((1,) + img.shape)  # Reshape the image to (1, height, width, channels)\n",
        "      j = 0\n",
        "      for batch in datagen.flow(img, batch_size=1):\n",
        "          augmented_images.append(batch[0])\n",
        "          augmented_labels.append(label)\n",
        "          j += 1\n",
        "          if j >= 3:  # Generate 5 augmented images for each original image\n",
        "              break\n",
        "\n",
        "# Convert the augmented images and labels to numpy arrays\n",
        "X_train = np.array(augmented_images)\n",
        "y_train = np.array(augmented_labels)\n"
      ],
      "metadata": {
        "id": "kWFgUGqWu7xw"
      },
      "execution_count": null,
      "outputs": []
    },
    {
      "cell_type": "code",
      "execution_count": null,
      "metadata": {
        "colab": {
          "base_uri": "https://localhost:8080/"
        },
        "id": "Yf3vy8esY7sc",
        "outputId": "4698b809-20cb-4a12-ec91-8592f503389c"
      },
      "outputs": [
        {
          "output_type": "stream",
          "name": "stdout",
          "text": [
            "(150000, 10)\n",
            "[6]\n",
            "[0. 0. 0. 0. 0. 0. 1. 0. 0. 0.]\n"
          ]
        }
      ],
      "source": [
        "from sklearn import preprocessing\n",
        "enc = preprocessing.OneHotEncoder()\n",
        "train_labels_a=y_train.reshape(-1, 1)\n",
        "enc.fit(train_labels_a)\n",
        "\n",
        "onehotlabels = enc.transform(train_labels_a).toarray()\n",
        "print(onehotlabels.shape)\n",
        "print(y_train[1])\n",
        "print(onehotlabels[1])\n",
        "\n",
        "train_labels=onehotlabels"
      ]
    },
    {
      "cell_type": "code",
      "execution_count": null,
      "metadata": {
        "colab": {
          "base_uri": "https://localhost:8080/"
        },
        "id": "yrxmfH93ZIiu",
        "outputId": "46ff9804-ac28-454b-ea54-d56672c14a76"
      },
      "outputs": [
        {
          "output_type": "stream",
          "name": "stdout",
          "text": [
            "(10000, 10)\n",
            "[8]\n",
            "[0. 0. 0. 0. 0. 0. 0. 0. 1. 0.]\n"
          ]
        }
      ],
      "source": [
        "enc = preprocessing.OneHotEncoder()\n",
        "test_labels_a=y_test.reshape(-1, 1)\n",
        "enc.fit(test_labels_a)\n",
        "\n",
        "onehotlabels_test = enc.transform(test_labels_a).toarray()\n",
        "print(onehotlabels_test.shape)\n",
        "print(y_test[1])\n",
        "\n",
        "print(onehotlabels_test[1])\n",
        "\n",
        "test_labels=onehotlabels_test"
      ]
    },
    {
      "cell_type": "code",
      "execution_count": null,
      "metadata": {
        "colab": {
          "base_uri": "https://localhost:8080/",
          "height": 234
        },
        "id": "FBmecjtbZSyg",
        "outputId": "73a145b6-ee4b-44e2-c073-e06205515052"
      },
      "outputs": [
        {
          "output_type": "stream",
          "name": "stderr",
          "text": [
            "WARNING:matplotlib.image:Clipping input data to the valid range for imshow with RGB data ([0..1] for floats or [0..255] for integers).\n"
          ]
        },
        {
          "output_type": "display_data",
          "data": {
            "text/plain": [
              "<Figure size 500x200 with 1 Axes>"
            ],
            "image/png": "[encoded data removed]"
          },
          "metadata": {}
        }
      ],
      "source": [
        "## plotting image\n",
        "import matplotlib.pyplot as plt\n",
        "plt.rcParams[\"figure.figsize\"] = (5,2)\n",
        "image=X_train[5]\n",
        "plt.imshow(image)\n",
        "plt.show()"
      ]
    },
    {
      "cell_type": "code",
      "execution_count": null,
      "metadata": {
        "colab": {
          "base_uri": "https://localhost:8080/",
          "height": 35
        },
        "id": "HYkzwxkkfu48",
        "outputId": "0c44046a-3d66-4001-a68e-012a3729fad4"
      },
      "outputs": [
        {
          "output_type": "execute_result",
          "data": {
            "text/plain": [
              "'\\na = tf.keras.utils.to_categorical([0, 1, 2, 3], num_classes=4)\\nprint(a)\\n\\n[[1 0 0 0]\\n[0 1 0 0]\\n[0 0 1 0]\\n[0 0 0 1]]\\n'"
            ],
            "application/vnd.google.colaboratory.intrinsic+json": {
              "type": "string"
            }
          },
          "metadata": {},
          "execution_count": 10
        }
      ],
      "source": [
        "import tensorflow as tf\n",
        "\n",
        "# convert class vectors to binary class matrices\n",
        "num_classes=10\n",
        "y_train = tf.keras.utils.to_categorical(y_train, num_classes)\n",
        "y_test = tf.keras.utils.to_categorical(y_test, num_classes)\n",
        "\n",
        "'''\n",
        "a = tf.keras.utils.to_categorical([0, 1, 2, 3], num_classes=4)\n",
        "print(a)\n",
        "\n",
        "[[1 0 0 0]\n",
        "[0 1 0 0]\n",
        "[0 0 1 0]\n",
        "[0 0 0 1]]\n",
        "'''"
      ]
    },
    {
      "cell_type": "markdown",
      "metadata": {
        "id": "jIm6yRzATtFV"
      },
      "source": [
        "    Input   CNN-1       (2,2)MaxPool1   CNN-2     (2,2)MaxPool2  FLATTEN  HL-1    Output\n",
        "  (32,32,3) (32,32,3,32) (16,16,3,32) (16,16,2,64) (8,8,2,64)                 "
      ]
    },
    {
      "cell_type": "code",
      "execution_count": null,
      "metadata": {
        "id": "o4bMgSfiTLB4"
      },
      "outputs": [],
      "source": [
        "from tensorflow import keras\n",
        "from keras.models import Sequential\n",
        "from keras.layers import Conv2D,Dense,MaxPooling2D,Flatten,Dropout\n",
        "\n",
        "X_train=X_train/255 ## because pixel range is (0,255) and we want to normalize it to (0,1) for faster training\n",
        "X_test=X_test/255\n",
        "\n",
        "input_shape=(32,32,3)\n",
        "model=Sequential()\n",
        "\n",
        "model.add(Conv2D( 128 , (3,3) , strides=(1,1) , padding='same' , input_shape= input_shape , activation='relu'))\n",
        "model.add(MaxPooling2D(pool_size=2,strides=None))\n",
        "\n",
        "model.add(Conv2D( 128 , (3,3) , strides=(1,1) , padding='same' , activation='relu'))\n",
        "model.add(MaxPooling2D(pool_size=2,strides=None))\n",
        "\n",
        "model.add(Conv2D( 128 , (3,3) , strides=(1,1) , padding='same' , activation='relu'))\n",
        "model.add(MaxPooling2D(pool_size=2,strides=None))\n",
        "\n",
        "\n",
        "model.add(Dropout(0.2))\n",
        "model.add(Flatten())\n",
        "model.add(Dense(512,activation='relu'))\n",
        "model.add(Dense(10,activation='softmax'))\n"
      ]
    },
    {
      "cell_type": "code",
      "execution_count": null,
      "metadata": {
        "colab": {
          "base_uri": "https://localhost:8080/",
          "height": 1000
        },
        "id": "KtlGnaIBEoOt",
        "outputId": "edaa4968-01f6-44fe-a895-fceb160b1e32"
      },
      "outputs": [
        {
          "output_type": "stream",
          "name": "stdout",
          "text": [
            "Epoch 1/20\n",
            "3750/3750 [==============================] - 40s 7ms/step - loss: 1.4961 - accuracy: 0.4586 - val_loss: 1.2379 - val_accuracy: 0.5620\n",
            "Epoch 2/20\n",
            "3750/3750 [==============================] - 24s 6ms/step - loss: 1.1474 - accuracy: 0.5921 - val_loss: 1.0561 - val_accuracy: 0.6256\n",
            "Epoch 3/20\n",
            "3750/3750 [==============================] - 25s 7ms/step - loss: 0.9806 - accuracy: 0.6527 - val_loss: 1.0764 - val_accuracy: 0.6236\n",
            "Epoch 4/20\n",
            "3750/3750 [==============================] - 25s 7ms/step - loss: 0.8654 - accuracy: 0.6954 - val_loss: 0.9391 - val_accuracy: 0.6740\n",
            "Epoch 5/20\n",
            "3750/3750 [==============================] - 24s 7ms/step - loss: 0.7680 - accuracy: 0.7297 - val_loss: 0.9115 - val_accuracy: 0.6884\n",
            "Epoch 6/20\n",
            "3750/3750 [==============================] - 25s 7ms/step - loss: 0.6837 - accuracy: 0.7596 - val_loss: 0.8881 - val_accuracy: 0.6967\n",
            "Epoch 7/20\n",
            "3750/3750 [==============================] - 24s 6ms/step - loss: 0.6093 - accuracy: 0.7848 - val_loss: 0.8545 - val_accuracy: 0.7114\n",
            "Epoch 8/20\n",
            "3750/3750 [==============================] - 24s 6ms/step - loss: 0.5338 - accuracy: 0.8114 - val_loss: 0.8628 - val_accuracy: 0.7176\n",
            "Epoch 9/20\n",
            "3750/3750 [==============================] - 25s 7ms/step - loss: 0.4692 - accuracy: 0.8344 - val_loss: 0.8963 - val_accuracy: 0.7074\n",
            "Epoch 10/20\n",
            "3750/3750 [==============================] - 25s 7ms/step - loss: 0.4073 - accuracy: 0.8562 - val_loss: 0.9005 - val_accuracy: 0.7159\n",
            "Epoch 11/20\n",
            "3750/3750 [==============================] - 25s 7ms/step - loss: 0.3547 - accuracy: 0.8745 - val_loss: 0.9277 - val_accuracy: 0.7180\n",
            "Epoch 12/20\n",
            "3750/3750 [==============================] - 24s 6ms/step - loss: 0.3075 - accuracy: 0.8907 - val_loss: 1.0193 - val_accuracy: 0.7117\n",
            "Epoch 13/20\n",
            "3750/3750 [==============================] - 24s 6ms/step - loss: 0.2719 - accuracy: 0.9024 - val_loss: 1.0182 - val_accuracy: 0.7108\n",
            "Epoch 14/20\n",
            "3750/3750 [==============================] - 24s 7ms/step - loss: 0.2388 - accuracy: 0.9147 - val_loss: 1.0628 - val_accuracy: 0.7142\n",
            "Epoch 15/20\n",
            "3750/3750 [==============================] - 24s 6ms/step - loss: 0.2100 - accuracy: 0.9249 - val_loss: 1.1267 - val_accuracy: 0.7143\n",
            "Epoch 16/20\n",
            "3750/3750 [==============================] - 24s 6ms/step - loss: 0.1909 - accuracy: 0.9315 - val_loss: 1.1800 - val_accuracy: 0.7153\n",
            "Epoch 17/20\n",
            "3750/3750 [==============================] - 24s 7ms/step - loss: 0.1734 - accuracy: 0.9390 - val_loss: 1.1830 - val_accuracy: 0.7140\n",
            "Epoch 18/20\n",
            "3750/3750 [==============================] - 24s 6ms/step - loss: 0.1607 - accuracy: 0.9428 - val_loss: 1.2385 - val_accuracy: 0.7167\n",
            "Epoch 19/20\n",
            "3750/3750 [==============================] - 24s 6ms/step - loss: 0.1488 - accuracy: 0.9469 - val_loss: 1.2931 - val_accuracy: 0.7164\n",
            "Epoch 20/20\n",
            "3750/3750 [==============================] - 24s 6ms/step - loss: 0.1388 - accuracy: 0.9508 - val_loss: 1.3133 - val_accuracy: 0.7105\n"
          ]
        },
        {
          "output_type": "display_data",
          "data": {
            "text/plain": [
              "<Figure size 500x200 with 1 Axes>"
            ],
            "image/png": "[encoded data removed]"
          },
          "metadata": {}
        },
        {
          "output_type": "stream",
          "name": "stdout",
          "text": [
            "Model: \"sequential\"\n",
            "_________________________________________________________________\n",
            " Layer (type)                Output Shape              Param #   \n",
            "=================================================================\n",
            " conv2d (Conv2D)             (None, 32, 32, 128)       3584      \n",
            "                                                                 \n",
            " max_pooling2d (MaxPooling2D  (None, 16, 16, 128)      0         \n",
            " )                                                               \n",
            "                                                                 \n",
            " conv2d_1 (Conv2D)           (None, 16, 16, 128)       147584    \n",
            "                                                                 \n",
            " max_pooling2d_1 (MaxPooling  (None, 8, 8, 128)        0         \n",
            " 2D)                                                             \n",
            "                                                                 \n",
            " conv2d_2 (Conv2D)           (None, 8, 8, 128)         147584    \n",
            "                                                                 \n",
            " max_pooling2d_2 (MaxPooling  (None, 4, 4, 128)        0         \n",
            " 2D)                                                             \n",
            "                                                                 \n",
            " dropout (Dropout)           (None, 4, 4, 128)         0         \n",
            "                                                                 \n",
            " flatten (Flatten)           (None, 2048)              0         \n",
            "                                                                 \n",
            " dense (Dense)               (None, 512)               1049088   \n",
            "                                                                 \n",
            " dense_1 (Dense)             (None, 10)                5130      \n",
            "                                                                 \n",
            "=================================================================\n",
            "Total params: 1,352,970\n",
            "Trainable params: 1,352,970\n",
            "Non-trainable params: 0\n",
            "_________________________________________________________________\n"
          ]
        }
      ],
      "source": [
        "model.compile(loss='categorical_crossentropy',\n",
        "              #optimizer='adam',\n",
        "              optimizer=tf.keras.optimizers.Adam(learning_rate=(1e-3)/4),\n",
        "              metrics=['accuracy'])\n",
        "\n",
        "with tf.device(device_name):\n",
        "  history= model.fit(X_train,y_train ,batch_size=32,validation_split=0.2,epochs=20)\n",
        "\n",
        "## The batch size depicts the number of samples that propagate through the neural network before updating the model parameters.\n",
        "## Each batch of samples goes through one full forward and one full backward propagation.\n",
        "\n",
        "# Get training and test loss histories\n",
        "training_loss = history.history['loss']\n",
        "test_loss = history.history['val_loss']\n",
        "\n",
        "# Create count of the number of epochs\n",
        "epoch_count = range(1, len(training_loss) + 1)\n",
        "\n",
        "# Visualize loss history\n",
        "plt.plot(epoch_count, training_loss, 'r--')\n",
        "plt.plot(epoch_count, test_loss, 'b-')\n",
        "plt.legend(['Training Loss', 'Test Loss'])\n",
        "plt.xlabel('Epoch')\n",
        "plt.ylabel('Loss')\n",
        "plt.show();\n",
        "\n",
        "model.summary()"
      ]
    },
    {
      "cell_type": "code",
      "source": [],
      "metadata": {
        "id": "z5hHLLP3KTX4"
      },
      "execution_count": null,
      "outputs": []
    },
    {
      "cell_type": "code",
      "execution_count": null,
      "metadata": {
        "id": "98KkNMO8FxXO",
        "colab": {
          "base_uri": "https://localhost:8080/"
        },
        "outputId": "474ad82e-c907-4bc1-8a09-e636711de231"
      },
      "outputs": [
        {
          "output_type": "stream",
          "name": "stdout",
          "text": [
            "Test loss: 1.2085926532745361\n",
            "Test accuracy: 0.7602999806404114\n"
          ]
        }
      ],
      "source": [
        "score = model.evaluate(X_test, y_test, verbose=0)\n",
        "print(\"Test loss:\", score[0])\n",
        "print(\"Test accuracy:\", score[1])"
      ]
    },
    {
      "cell_type": "code",
      "source": [],
      "metadata": {
        "id": "ieonO49URHBo"
      },
      "execution_count": null,
      "outputs": []
    },
    {
      "cell_type": "code",
      "source": [
        "#Added dense layer 128, 128, 128 ,flatten , dense-512, dense-output-10 -- learning rate (1e-3)/8\n",
        "\n",
        "\n",
        "# Test loss: 0.7715660333633423\n",
        "# Test accuracy: 0.7372999787330627"
      ],
      "metadata": {
        "id": "0hPlLqDjRIwh"
      },
      "execution_count": null,
      "outputs": []
    },
    {
      "cell_type": "code",
      "source": [
        "#Added dense layer 128, 128, 128 ,flatten , dense-512, dense-output-10 , learning rate (1e-3)/4\n",
        "# Test loss: 0.7137531042098999\n",
        "# Test accuracy: 0.7669000029563904\n",
        "# The reason is that convolutional layers try to extract features in a differentiable manner, and fully connected layers try to classify\n",
        "# the features. Consequently, adding more layers to the dense section can empower your network's ability to classify the extracted features better.\n",
        "\n",
        "\n",
        "##Below image for loss VS epoch graph"
      ],
      "metadata": {
        "id": "WoPOrN4r_GEV"
      },
      "execution_count": null,
      "outputs": []
    },
    {
      "cell_type": "markdown",
      "source": [
        "![image.png](data:image/png;base64,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)"
      ],
      "metadata": {
        "id": "dknXBsPf-1X9"
      }
    },
    {
      "cell_type": "code",
      "execution_count": null,
      "metadata": {
        "id": "eqTCru3q7DMK"
      },
      "outputs": [],
      "source": [
        "# with pooling stride none\n",
        "#Test loss: 1.256853461265564\n",
        "#Test accuracy: 0.5770000219345093\n",
        "\n",
        "# with pooling stride (1,1)\n",
        "#Test loss: 469.9234619140625\n",
        "#Test accuracy: 0.4242999851703644\n",
        "\n",
        "# with pooling stride none, learning rate (1e-3), CNN with 64 and 64 units\n",
        "# Test loss: 171.89736938476562\n",
        "# Test accuracy: 0.4867999851703644\n",
        "\n",
        "# with pooling stride none, learning rate (1e-3)/2, CNN with 64 and 64 units\n",
        "# Test loss: 200.59030151367188\n",
        "# Test accuracy: 0.5022000074386597\n",
        "\n",
        "# with pooling stride none, learning rate (1e-3)/4, CNN with 64 and 128 units\n",
        "# Test loss: 139.72500610351562\n",
        "# Test accuracy: 0.6215000152587891\n",
        "\n",
        "# with pooling stride none, learning rate (1e-3)/4, CNN with 32, 64 and 128 units\n",
        "# Test loss: 147.02127075195312\n",
        "# Test accuracy: 0.6215000152587891\n",
        "\n",
        "# with pooling stride none, learning rate (1e-3)/4, CNN with 128, 64 and 32 units\n",
        "# Test loss: 146.09669494628906\n",
        "# Test accuracy: 0.5444999933242798\n",
        "\n",
        "# with pooling stride none, learning rate (1e-3)/4, CNN with 128, 128 and 128 units\n",
        "# Test loss: 142.669921875\n",
        "# Test accuracy: 0.6223000288009644\n"
      ]
    }
  ],
  "metadata": {
    "colab": {
      "provenance": [],
      "gpuType": "T4"
    },
    "kernelspec": {
      "display_name": "Python 3",
      "name": "python3"
    },
    "language_info": {
      "name": "python"
    },
    "accelerator": "GPU"
  },
  "nbformat": 4,
  "nbformat_minor": 0
}